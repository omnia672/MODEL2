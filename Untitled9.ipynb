{
  "nbformat": 4,
  "nbformat_minor": 0,
  "metadata": {
    "colab": {
      "provenance": [],
      "authorship_tag": "ABX9TyPe+F5KGSUqZ2547ezFyKLy",
      "include_colab_link": true
    },
    "kernelspec": {
      "name": "python3",
      "display_name": "Python 3"
    },
    "language_info": {
      "name": "python"
    }
  },
  "cells": [
    {
      "cell_type": "markdown",
      "metadata": {
        "id": "view-in-github",
        "colab_type": "text"
      },
      "source": [
        "<a href=\"https://colab.research.google.com/github/omnia672/MODEL2/blob/main/Untitled9.ipynb\" target=\"_parent\"><img src=\"https://colab.research.google.com/assets/colab-badge.svg\" alt=\"Open In Colab\"/></a>"
      ]
    },
    {
      "cell_type": "code",
      "source": [
        "import torch\n",
        "import torch.nn.functional as F\n",
        "\n",
        "input_tensor = torch.tensor([[1.0, 0.5, 0.3],   # الكلمة 1\n",
        "                             [0.8, 1.2, 0.7],   # الكلمة 2\n",
        "                             [0.6, 0.9, 1.3],   # الكلمة 3\n",
        "                             [0.2, 0.4, 0.5]])  # الكلمة 4\n",
        "\n",
        "#  Query, Key, Value\n",
        "W_q = torch.randn((3, 3))  # أوزان Query\n",
        "W_k = torch.randn((3, 3))  # أوزان Key\n",
        "W_v = torch.randn((3, 3))  # أوزان Value\n",
        "\n",
        "Q = input_tensor @ W_q  # حساب Query\n",
        "K = input_tensor @ W_k  # حساب Key\n",
        "V = input_tensor @ W_v  # حساب Value\n",
        "\n",
        "#(Self-Attention)\n",
        "dk = Q.shape[-1]  # عدد الأبعاد\n",
        "attention_scores = (Q @ K.T) / (dk ** 0.5)\n",
        "attention_weights = F.softmax(attention_scores, dim=-1)  # تطبيق softmax\n",
        "\n",
        "# ضرب الأوزان المحسوبة في V للحصول على الناتج النهائي\n",
        "output = attention_weights @ V\n",
        "\n",
        "\n",
        "print(\"Self-Attention Scores:\\n\", attention_scores)\n",
        "print(\"Attention Weights (Softmax applied):\\n\", attention_weights)\n",
        "print(\"Final Output:\\n\", output)\n"
      ],
      "metadata": {
        "colab": {
          "base_uri": "https://localhost:8080/"
        },
        "id": "w0VQUyTP5wgM",
        "outputId": "d4ccc72e-2ff0-457e-deee-07ba3f516327"
      },
      "execution_count": 10,
      "outputs": [
        {
          "output_type": "stream",
          "name": "stdout",
          "text": [
            "Self-Attention Scores:\n",
            " tensor([[-1.6683, -2.2609, -2.4985, -0.9581],\n",
            "        [-2.2283, -2.6256, -3.2302, -1.1970],\n",
            "        [-1.7579, -1.5745, -2.5967, -0.9033],\n",
            "        [-0.6987, -0.6223, -1.0215, -0.3550]])\n",
            "Attention Weights (Softmax applied):\n",
            " tensor([[0.2486, 0.1374, 0.1084, 0.5057],\n",
            "        [0.2064, 0.1388, 0.0758, 0.5790],\n",
            "        [0.2006, 0.2410, 0.0867, 0.4716],\n",
            "        [0.2373, 0.2562, 0.1718, 0.3347]])\n",
            "Final Output:\n",
            " tensor([[0.4459, 0.9929, 0.6995],\n",
            "        [0.3924, 0.9470, 0.6721],\n",
            "        [0.4814, 1.0343, 0.7013],\n",
            "        [0.5460, 1.1505, 0.7854]])\n"
          ]
        }
      ]
    }
  ]
}