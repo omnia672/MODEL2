{
  "nbformat": 4,
  "nbformat_minor": 0,
  "metadata": {
    "colab": {
      "provenance": [],
      "authorship_tag": "ABX9TyMTzejJZGTx+GuwoVVoOE8W",
      "include_colab_link": true
    },
    "kernelspec": {
      "name": "python3",
      "display_name": "Python 3"
    },
    "language_info": {
      "name": "python"
    }
  },
  "cells": [
    {
      "cell_type": "markdown",
      "metadata": {
        "id": "view-in-github",
        "colab_type": "text"
      },
      "source": [
        "<a href=\"https://colab.research.google.com/github/omnia672/MODEL2/blob/main/Untitled10.ipynb\" target=\"_parent\"><img src=\"https://colab.research.google.com/assets/colab-badge.svg\" alt=\"Open In Colab\"/></a>"
      ]
    },
    {
      "cell_type": "code",
      "execution_count": 1,
      "metadata": {
        "colab": {
          "base_uri": "https://localhost:8080/"
        },
        "id": "QoDqJOFzo63d",
        "outputId": "8c4e2c02-4399-4766-e0eb-3d6a5ff7fde4"
      },
      "outputs": [
        {
          "output_type": "stream",
          "name": "stdout",
          "text": [
            "Self-Attention Scores:\n",
            " tensor([[-0.0211, -0.0413, -0.0725, -0.0403],\n",
            "        [-0.0325,  0.0183, -0.0864, -0.0827],\n",
            "        [-0.0439, -0.0649, -0.1369, -0.0917],\n",
            "        [-0.0523, -0.1213, -0.1882, -0.0940]], grad_fn=<DivBackward0>)\n",
            "Attention Weights (Softmax applied):\n",
            " tensor([[0.2557, 0.2506, 0.2429, 0.2508],\n",
            "        [0.2531, 0.2663, 0.2398, 0.2407],\n",
            "        [0.2602, 0.2548, 0.2371, 0.2480],\n",
            "        [0.2656, 0.2479, 0.2318, 0.2547]], grad_fn=<SoftmaxBackward0>)\n",
            "Final Output:\n",
            " tensor([[-0.0093,  0.0006, -0.0588],\n",
            "        [-0.0039,  0.0047, -0.0623],\n",
            "        [-0.0085,  0.0017, -0.0595],\n",
            "        [-0.0122, -0.0002, -0.0575]], grad_fn=<MmBackward0>)\n"
          ]
        }
      ],
      "source": [
        "import torch\n",
        "import torch.nn.functional as F\n",
        "\n",
        "\n",
        "input_tensor = torch.rand((4, 3))\n",
        "\n",
        "\n",
        "W_q = torch.nn.Linear(3, 3, bias=False)\n",
        "W_k = torch.nn.Linear(3, 3, bias=False)\n",
        "W_v = torch.nn.Linear(3, 3, bias=False)\n",
        "\n",
        "\n",
        "Q = W_q(input_tensor)\n",
        "K = W_k(input_tensor)\n",
        "V = W_v(input_tensor)\n",
        "\n",
        "\n",
        "dk = Q.shape[-1]\n",
        "attention_scores = (Q @ K.T) / (dk ** 0.5)\n",
        "attention_weights = F.softmax(attention_scores, dim=-1)\n",
        "\n",
        "\n",
        "output = attention_weights @ V\n",
        "\n",
        "\n",
        "print(\"Self-Attention Scores:\\n\", attention_scores)\n",
        "print(\"Attention Weights (Softmax applied):\\n\", attention_weights)\n",
        "print(\"Final Output:\\n\", output)\n"
      ]
    }
  ]
}