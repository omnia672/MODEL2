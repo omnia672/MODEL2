{
  "nbformat": 4,
  "nbformat_minor": 0,
  "metadata": {
    "colab": {
      "provenance": [],
      "gpuType": "T4",
      "authorship_tag": "ABX9TyO6gZ7ASuctayIIGvQEaM3o",
      "include_colab_link": true
    },
    "kernelspec": {
      "name": "python3",
      "display_name": "Python 3"
    },
    "language_info": {
      "name": "python"
    },
    "accelerator": "GPU"
  },
  "cells": [
    {
      "cell_type": "markdown",
      "metadata": {
        "id": "view-in-github",
        "colab_type": "text"
      },
      "source": [
        "<a href=\"https://colab.research.google.com/github/omnia672/MODEL2/blob/main/Untitled8.ipynb\" target=\"_parent\"><img src=\"https://colab.research.google.com/assets/colab-badge.svg\" alt=\"Open In Colab\"/></a>"
      ]
    },
    {
      "cell_type": "code",
      "execution_count": 9,
      "metadata": {
        "colab": {
          "base_uri": "https://localhost:8080/",
          "height": 92
        },
        "id": "MrXBR9sxHl68",
        "outputId": "8abd0b36-5d6c-4aab-b9f9-212ea849e5bc"
      },
      "outputs": [
        {
          "output_type": "display_data",
          "data": {
            "text/plain": [
              "<IPython.core.display.HTML object>"
            ],
            "text/html": [
              "\n",
              "     <input type=\"file\" id=\"files-27adce87-c9a0-431b-a670-edc807725cb4\" name=\"files[]\" multiple disabled\n",
              "        style=\"border:none\" />\n",
              "     <output id=\"result-27adce87-c9a0-431b-a670-edc807725cb4\">\n",
              "      Upload widget is only available when the cell has been executed in the\n",
              "      current browser session. Please rerun this cell to enable.\n",
              "      </output>\n",
              "      <script>// Copyright 2017 Google LLC\n",
              "//\n",
              "// Licensed under the Apache License, Version 2.0 (the \"License\");\n",
              "// you may not use this file except in compliance with the License.\n",
              "// You may obtain a copy of the License at\n",
              "//\n",
              "//      http://www.apache.org/licenses/LICENSE-2.0\n",
              "//\n",
              "// Unless required by applicable law or agreed to in writing, software\n",
              "// distributed under the License is distributed on an \"AS IS\" BASIS,\n",
              "// WITHOUT WARRANTIES OR CONDITIONS OF ANY KIND, either express or implied.\n",
              "// See the License for the specific language governing permissions and\n",
              "// limitations under the License.\n",
              "\n",
              "/**\n",
              " * @fileoverview Helpers for google.colab Python module.\n",
              " */\n",
              "(function(scope) {\n",
              "function span(text, styleAttributes = {}) {\n",
              "  const element = document.createElement('span');\n",
              "  element.textContent = text;\n",
              "  for (const key of Object.keys(styleAttributes)) {\n",
              "    element.style[key] = styleAttributes[key];\n",
              "  }\n",
              "  return element;\n",
              "}\n",
              "\n",
              "// Max number of bytes which will be uploaded at a time.\n",
              "const MAX_PAYLOAD_SIZE = 100 * 1024;\n",
              "\n",
              "function _uploadFiles(inputId, outputId) {\n",
              "  const steps = uploadFilesStep(inputId, outputId);\n",
              "  const outputElement = document.getElementById(outputId);\n",
              "  // Cache steps on the outputElement to make it available for the next call\n",
              "  // to uploadFilesContinue from Python.\n",
              "  outputElement.steps = steps;\n",
              "\n",
              "  return _uploadFilesContinue(outputId);\n",
              "}\n",
              "\n",
              "// This is roughly an async generator (not supported in the browser yet),\n",
              "// where there are multiple asynchronous steps and the Python side is going\n",
              "// to poll for completion of each step.\n",
              "// This uses a Promise to block the python side on completion of each step,\n",
              "// then passes the result of the previous step as the input to the next step.\n",
              "function _uploadFilesContinue(outputId) {\n",
              "  const outputElement = document.getElementById(outputId);\n",
              "  const steps = outputElement.steps;\n",
              "\n",
              "  const next = steps.next(outputElement.lastPromiseValue);\n",
              "  return Promise.resolve(next.value.promise).then((value) => {\n",
              "    // Cache the last promise value to make it available to the next\n",
              "    // step of the generator.\n",
              "    outputElement.lastPromiseValue = value;\n",
              "    return next.value.response;\n",
              "  });\n",
              "}\n",
              "\n",
              "/**\n",
              " * Generator function which is called between each async step of the upload\n",
              " * process.\n",
              " * @param {string} inputId Element ID of the input file picker element.\n",
              " * @param {string} outputId Element ID of the output display.\n",
              " * @return {!Iterable<!Object>} Iterable of next steps.\n",
              " */\n",
              "function* uploadFilesStep(inputId, outputId) {\n",
              "  const inputElement = document.getElementById(inputId);\n",
              "  inputElement.disabled = false;\n",
              "\n",
              "  const outputElement = document.getElementById(outputId);\n",
              "  outputElement.innerHTML = '';\n",
              "\n",
              "  const pickedPromise = new Promise((resolve) => {\n",
              "    inputElement.addEventListener('change', (e) => {\n",
              "      resolve(e.target.files);\n",
              "    });\n",
              "  });\n",
              "\n",
              "  const cancel = document.createElement('button');\n",
              "  inputElement.parentElement.appendChild(cancel);\n",
              "  cancel.textContent = 'Cancel upload';\n",
              "  const cancelPromise = new Promise((resolve) => {\n",
              "    cancel.onclick = () => {\n",
              "      resolve(null);\n",
              "    };\n",
              "  });\n",
              "\n",
              "  // Wait for the user to pick the files.\n",
              "  const files = yield {\n",
              "    promise: Promise.race([pickedPromise, cancelPromise]),\n",
              "    response: {\n",
              "      action: 'starting',\n",
              "    }\n",
              "  };\n",
              "\n",
              "  cancel.remove();\n",
              "\n",
              "  // Disable the input element since further picks are not allowed.\n",
              "  inputElement.disabled = true;\n",
              "\n",
              "  if (!files) {\n",
              "    return {\n",
              "      response: {\n",
              "        action: 'complete',\n",
              "      }\n",
              "    };\n",
              "  }\n",
              "\n",
              "  for (const file of files) {\n",
              "    const li = document.createElement('li');\n",
              "    li.append(span(file.name, {fontWeight: 'bold'}));\n",
              "    li.append(span(\n",
              "        `(${file.type || 'n/a'}) - ${file.size} bytes, ` +\n",
              "        `last modified: ${\n",
              "            file.lastModifiedDate ? file.lastModifiedDate.toLocaleDateString() :\n",
              "                                    'n/a'} - `));\n",
              "    const percent = span('0% done');\n",
              "    li.appendChild(percent);\n",
              "\n",
              "    outputElement.appendChild(li);\n",
              "\n",
              "    const fileDataPromise = new Promise((resolve) => {\n",
              "      const reader = new FileReader();\n",
              "      reader.onload = (e) => {\n",
              "        resolve(e.target.result);\n",
              "      };\n",
              "      reader.readAsArrayBuffer(file);\n",
              "    });\n",
              "    // Wait for the data to be ready.\n",
              "    let fileData = yield {\n",
              "      promise: fileDataPromise,\n",
              "      response: {\n",
              "        action: 'continue',\n",
              "      }\n",
              "    };\n",
              "\n",
              "    // Use a chunked sending to avoid message size limits. See b/62115660.\n",
              "    let position = 0;\n",
              "    do {\n",
              "      const length = Math.min(fileData.byteLength - position, MAX_PAYLOAD_SIZE);\n",
              "      const chunk = new Uint8Array(fileData, position, length);\n",
              "      position += length;\n",
              "\n",
              "      const base64 = btoa(String.fromCharCode.apply(null, chunk));\n",
              "      yield {\n",
              "        response: {\n",
              "          action: 'append',\n",
              "          file: file.name,\n",
              "          data: base64,\n",
              "        },\n",
              "      };\n",
              "\n",
              "      let percentDone = fileData.byteLength === 0 ?\n",
              "          100 :\n",
              "          Math.round((position / fileData.byteLength) * 100);\n",
              "      percent.textContent = `${percentDone}% done`;\n",
              "\n",
              "    } while (position < fileData.byteLength);\n",
              "  }\n",
              "\n",
              "  // All done.\n",
              "  yield {\n",
              "    response: {\n",
              "      action: 'complete',\n",
              "    }\n",
              "  };\n",
              "}\n",
              "\n",
              "scope.google = scope.google || {};\n",
              "scope.google.colab = scope.google.colab || {};\n",
              "scope.google.colab._files = {\n",
              "  _uploadFiles,\n",
              "  _uploadFilesContinue,\n",
              "};\n",
              "})(self);\n",
              "</script> "
            ]
          },
          "metadata": {}
        },
        {
          "output_type": "stream",
          "name": "stdout",
          "text": [
            "Saving kaggle.json to kaggle.json\n"
          ]
        },
        {
          "output_type": "execute_result",
          "data": {
            "text/plain": [
              "{'kaggle.json': b'{\"username\":\"omniaabouelnage\",\"key\":\"7024bdbe224e07c8949c4d0f1f7cc9b3\"}'}"
            ]
          },
          "metadata": {},
          "execution_count": 9
        }
      ],
      "source": [
        "from google.colab import files\n",
        "files.upload()"
      ]
    },
    {
      "cell_type": "code",
      "source": [
        "!pip install kaggle"
      ],
      "metadata": {
        "colab": {
          "base_uri": "https://localhost:8080/"
        },
        "id": "qhhSCCIrKSGB",
        "outputId": "6f4ba31d-2d57-4414-a9d1-bce48a0ebac5"
      },
      "execution_count": 10,
      "outputs": [
        {
          "output_type": "stream",
          "name": "stdout",
          "text": [
            "Requirement already satisfied: kaggle in /usr/local/lib/python3.11/dist-packages (1.7.4.2)\n",
            "Requirement already satisfied: bleach in /usr/local/lib/python3.11/dist-packages (from kaggle) (6.2.0)\n",
            "Requirement already satisfied: certifi>=14.05.14 in /usr/local/lib/python3.11/dist-packages (from kaggle) (2025.1.31)\n",
            "Requirement already satisfied: charset-normalizer in /usr/local/lib/python3.11/dist-packages (from kaggle) (3.4.1)\n",
            "Requirement already satisfied: idna in /usr/local/lib/python3.11/dist-packages (from kaggle) (3.10)\n",
            "Requirement already satisfied: protobuf in /usr/local/lib/python3.11/dist-packages (from kaggle) (5.29.3)\n",
            "Requirement already satisfied: python-dateutil>=2.5.3 in /usr/local/lib/python3.11/dist-packages (from kaggle) (2.8.2)\n",
            "Requirement already satisfied: python-slugify in /usr/local/lib/python3.11/dist-packages (from kaggle) (8.0.4)\n",
            "Requirement already satisfied: requests in /usr/local/lib/python3.11/dist-packages (from kaggle) (2.32.3)\n",
            "Requirement already satisfied: setuptools>=21.0.0 in /usr/local/lib/python3.11/dist-packages (from kaggle) (75.1.0)\n",
            "Requirement already satisfied: six>=1.10 in /usr/local/lib/python3.11/dist-packages (from kaggle) (1.17.0)\n",
            "Requirement already satisfied: text-unidecode in /usr/local/lib/python3.11/dist-packages (from kaggle) (1.3)\n",
            "Requirement already satisfied: tqdm in /usr/local/lib/python3.11/dist-packages (from kaggle) (4.67.1)\n",
            "Requirement already satisfied: urllib3>=1.15.1 in /usr/local/lib/python3.11/dist-packages (from kaggle) (2.3.0)\n",
            "Requirement already satisfied: webencodings in /usr/local/lib/python3.11/dist-packages (from kaggle) (0.5.1)\n"
          ]
        }
      ]
    },
    {
      "cell_type": "code",
      "source": [
        "import os\n",
        "import shutil\n",
        "\n",
        "os.makedirs(\"/root/.kaggle/\", exist_ok=True)\n",
        "\n",
        "shutil.move(\"kaggle.json\", \"/root/.kaggle/\")"
      ],
      "metadata": {
        "colab": {
          "base_uri": "https://localhost:8080/",
          "height": 36
        },
        "id": "KQOXa9L2Kchf",
        "outputId": "fb90b08a-016a-41b1-98ca-def0696f6904"
      },
      "execution_count": 11,
      "outputs": [
        {
          "output_type": "execute_result",
          "data": {
            "text/plain": [
              "'/root/.kaggle/kaggle.json'"
            ],
            "application/vnd.google.colaboratory.intrinsic+json": {
              "type": "string"
            }
          },
          "metadata": {},
          "execution_count": 11
        }
      ]
    },
    {
      "cell_type": "code",
      "source": [
        "!kaggle datasets list\n"
      ],
      "metadata": {
        "colab": {
          "base_uri": "https://localhost:8080/"
        },
        "id": "k-Hb9hfOQBcU",
        "outputId": "bab437e3-d808-4a3a-a86f-c8b62c51bb88"
      },
      "execution_count": 12,
      "outputs": [
        {
          "output_type": "stream",
          "name": "stdout",
          "text": [
            "Warning: Your Kaggle API key is readable by other users on this system! To fix this, you can run 'chmod 600 /root/.kaggle/kaggle.json'\n",
            "ref                                                                    title                                                     size  lastUpdated                 downloadCount  voteCount  usabilityRating  \n",
            "---------------------------------------------------------------------  --------------------------------------------------  ----------  --------------------------  -------------  ---------  ---------------  \n",
            "atharvasoundankar/chocolate-sales                                      Chocolate Sales Data 📊🍫                                  14473  2025-03-19 03:51:40.270000           9900        170  1.0              \n",
            "abdulmalik1518/mobiles-dataset-2025                                    Mobiles Dataset (2025)                                   20314  2025-02-18 06:50:24.370000          16127        277  1.0              \n",
            "zahidmughal2343/employee-data                                          Employee Data                                           379143  2025-03-08 19:36:42.953000           1257         25  1.0              \n",
            "adilshamim8/student-depression-dataset                                 Student Depression Dataset                              467020  2025-03-13 03:12:30.423000           2696         50  1.0              \n",
            "mahmoudelhemaly/students-grading-dataset                               Student Performance & Behavior Dataset                  520428  2025-02-17 17:38:46.653000          11462        181  1.0              \n",
            "aradhanahirapara/income-survey-finance-analysis                        Income Survey | Finance Analysis                       1826775  2025-03-20 19:53:01.633000           1021         23  0.7647059        \n",
            "bhargavchirumamilla/netflix-movies-and-tv-shows-till-2025              Netflix Movies and TV shows till 2025                  6471169  2025-03-04 01:06:12.240000           1813         30  1.0              \n",
            "amanrajput16/used-car-price-data-from-cars24                           Used Cars Market Analysis:Scraped Data from Cars24       22591  2025-03-08 11:40:03.327000           1117         23  1.0              \n",
            "ricgomes/global-fashion-retail-stores-dataset                          Global Fashion Retail Sales                          234910599  2025-03-19 18:37:15.857000           1657         28  1.0              \n",
            "abdulmoiz12/amazon-stock-data-2025                                     Amazon Stock Data 2025                                  160519  2025-03-01 09:08:07.890000           1396         28  1.0              \n",
            "atharvasoundankar/global-food-wastage-dataset-2018-2024                🌍 Global Food Wastage Dataset (2018-2024) 🍽️            108611  2025-03-12 04:51:27.083000           1364         26  1.0              \n",
            "shohinurpervezshohan/freelancer-earnings-and-job-trends                Freelancer Earnings & Job Trends                         52906  2025-03-08 07:21:46.633000           1290         29  0.9411765        \n",
            "smayanj/netflix-users-database                                         Netflix Users Database                                  362559  2025-03-08 12:08:09.403000           2194         50  1.0              \n",
            "atharvasoundankar/global-water-consumption-dataset-2000-2024           Global Water Consumption Dataset (2000-2024) 🌍💧          17077  2025-03-17 04:50:38.880000           2108         33  1.0              \n",
            "shantanugarg274/heart-prediction-dataset-quantum                       Heart Prediction Dataset (Quantum)                        6993  2025-02-28 14:00:06.887000           1139         25  1.0              \n",
            "willianoliveiragibin/grocery-inventory                                 Grocery Inventory                                        50801  2025-03-16 21:03:55.307000            984         28  1.0              \n",
            "aniruddhawankhede/mental-heath-analysis-among-teenagers                Mental_Heath_Analysis_Among_Teenagers                   177089  2025-03-10 12:17:22.827000           1910         34  1.0              \n",
            "adilshamim8/temperature                                                Global Environmental Trends 2000-2024                    22391  2025-03-14 08:11:56.090000           1016         23  1.0              \n",
            "atharvasoundankar/global-music-streaming-trends-and-listener-insights  Global Music Streaming Trends & Listener Insights        97474  2025-03-09 05:12:00.547000           1801         30  1.0              \n",
            "parsabahramsari/wdi-education-health-and-employment-2011-2021          WDI: Education, Health & Employment (2011-2021)         136185  2025-03-07 08:29:38.617000           1122         30  1.0              \n"
          ]
        }
      ]
    },
    {
      "cell_type": "code",
      "source": [
        "!chmod 600 ~/.kaggle/kaggle.json"
      ],
      "metadata": {
        "id": "NYo-5CllKsBO"
      },
      "execution_count": 13,
      "outputs": []
    },
    {
      "cell_type": "code",
      "source": [
        "!kaggle datasets download -d mohamedsaeed823/arslvideodataset\n"
      ],
      "metadata": {
        "colab": {
          "base_uri": "https://localhost:8080/"
        },
        "id": "rW_aw_FtKzqZ",
        "outputId": "2d2ca2a0-5495-4b09-8ef6-9d16071c7627"
      },
      "execution_count": 14,
      "outputs": [
        {
          "output_type": "stream",
          "name": "stdout",
          "text": [
            "Dataset URL: https://www.kaggle.com/datasets/mohamedsaeed823/arslvideodataset\n",
            "License(s): CC0-1.0\n"
          ]
        }
      ]
    },
    {
      "cell_type": "code",
      "source": [
        "import zipfile\n",
        "\n",
        "dataset_zip = \"arslvideodataset.zip\"  # تأكد من أن اسم الملف مطابق لما تم تحميله\n",
        "with zipfile.ZipFile(dataset_zip, 'r') as zip_ref:\n",
        "    zip_ref.extractall(\"/content/dataset\")\n",
        "\n",
        "print(\"✅ Extract done: /content/dataset\")\n"
      ],
      "metadata": {
        "colab": {
          "base_uri": "https://localhost:8080/"
        },
        "id": "t2NHt9I2Mdrj",
        "outputId": "a6a2e5c0-3c36-416b-89e9-e3b0223d8381"
      },
      "execution_count": 15,
      "outputs": [
        {
          "output_type": "stream",
          "name": "stdout",
          "text": [
            "✅ Extract done: /content/dataset\n"
          ]
        }
      ]
    },
    {
      "cell_type": "code",
      "source": [
        "def extract_frames(video_path, num_frames=30, target_size=(64, 64)):\n",
        "    cap = cv2.VideoCapture(video_path)\n",
        "    frames = []\n",
        "    total_frames = int(cap.get(cv2.CAP_PROP_FRAME_COUNT))\n",
        "    frame_idxs = np.linspace(0, total_frames - 1, num_frames, dtype=int)\n",
        "\n",
        "    for idx in frame_idxs:\n",
        "        cap.set(cv2.CAP_PROP_POS_FRAMES, idx)\n",
        "        ret, frame = cap.read()\n",
        "        if not ret:\n",
        "            break\n",
        "        frame = cv2.resize(frame, target_size)\n",
        "        frames.append(frame)\n",
        "    cap.release()\n",
        "\n",
        "    while len(frames) < num_frames:\n",
        "        frames.append(np.zeros((target_size[0], target_size[1], 3), dtype=np.uint8))\n",
        "\n",
        "    return np.array(frames)"
      ],
      "metadata": {
        "id": "E-18YGwfcIU6"
      },
      "execution_count": 16,
      "outputs": []
    },
    {
      "cell_type": "code",
      "source": [
        "def extract_frames(video_path, num_frames=30, target_size=(64, 64)):\n",
        "    cap = cv2.VideoCapture(video_path)\n",
        "    frames = []\n",
        "    total_frames = int(cap.get(cv2.CAP_PROP_FRAME_COUNT))\n",
        "    frame_idxs = np.linspace(0, total_frames - 1, num_frames, dtype=int)\n",
        "\n",
        "    for idx in frame_idxs:\n",
        "        cap.set(cv2.CAP_PROP_POS_FRAMES, idx)\n",
        "        ret, frame = cap.read()\n",
        "        if not ret:\n",
        "            break\n",
        "        frame = cv2.resize(frame, target_size)\n",
        "        frames.append(frame)\n",
        "    cap.release()\n",
        "\n",
        "    while len(frames) < num_frames:\n",
        "        frames.append(np.zeros((target_size[0], target_size[1], 3), dtype=np.uint8))\n",
        "\n",
        "    return np.array(frames)"
      ],
      "metadata": {
        "id": "0VbiXon-f5rd"
      },
      "execution_count": 23,
      "outputs": []
    },
    {
      "cell_type": "code",
      "source": [
        "def load_videos_from_directory(base_path):\n",
        "    X, y = [], []\n",
        "    class_labels = sorted(os.listdir(base_path))\n",
        "\n",
        "    for label in class_labels:\n",
        "        label_path = os.path.join(base_path, label)\n",
        "        if not os.path.isdir(label_path):\n",
        "            continue\n",
        "\n",
        "        for video_name in os.listdir(label_path):\n",
        "            video_path = os.path.join(label_path, video_name)\n",
        "            if video_path.endswith(('.mp4', '.avi', '.mov')):\n",
        "                frames = extract_frames(video_path)\n",
        "                X.append(frames)\n",
        "                y.append(label)\n",
        "\n",
        "    return np.array(X), np.array(y), class_labels\n",
        "\n",
        "train_path = \"/content/dataset/train\"\n",
        "val_path = \"/content/dataset/val\"\n",
        "\n",
        "X_train, y_train, class_labels = load_videos_from_directory(train_path)\n",
        "X_val, y_val, _ = load_videos_from_directory(val_path)\n",
        "\n",
        "label_encoder = LabelEncoder()\n",
        "y_train_encoded = label_encoder.fit_transform(y_train)\n",
        "y_val_encoded = label_encoder.transform(y_val)\n",
        "\n",
        "num_classes = len(class_labels)\n",
        "y_train_onehot = tf.keras.utils.to_categorical(y_train_encoded, num_classes)\n",
        "y_val_onehot = tf.keras.utils.to_categorical(y_val_encoded, num_classes)"
      ],
      "metadata": {
        "id": "whNVQl73gB3S"
      },
      "execution_count": null,
      "outputs": []
    }
  ]
}